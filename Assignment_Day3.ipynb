{
  "nbformat": 4,
  "nbformat_minor": 0,
  "metadata": {
    "colab": {
      "name": "Assignment Day3.ipynb",
      "provenance": [],
      "include_colab_link": true
    },
    "kernelspec": {
      "name": "python3",
      "display_name": "Python 3"
    },
    "language_info": {
      "name": "python"
    }
  },
  "cells": [
    {
      "cell_type": "markdown",
      "metadata": {
        "id": "view-in-github",
        "colab_type": "text"
      },
      "source": [
        "<a href=\"https://colab.research.google.com/github/vc30545/vvv/blob/main/Assignment_Day3.ipynb\" target=\"_parent\"><img src=\"https://colab.research.google.com/assets/colab-badge.svg\" alt=\"Open In Colab\"/></a>"
      ]
    },
    {
      "cell_type": "code",
      "metadata": {
        "id": "Ii6teomzndck",
        "outputId": "eeabf571-fca9-4eae-9fbd-606bdecd8af4",
        "colab": {
          "base_uri": "https://localhost:8080/"
        }
      },
      "source": [
        "# Assignment day 3\n",
        " \n",
        "'''\n",
        "Consider a person is represented by Pi, where i is the index of the following list.\n",
        "A list shows the person to whom person Pi has given the gift.\n",
        " \n",
        "Consider the below example:\n",
        "gift_presented_to = [2, 1, 5, 3, 4]\n",
        " \n",
        "This list is giving us the following details:\n",
        "Person P1 has given gift to person P2\n",
        "Person P2 has given gift to person P1\n",
        "Person P3 has given gift to person P5\n",
        "Person P4 has given gift to person P3\n",
        "Person P5 has given gift to person P4\n",
        " \n",
        "So for the given list, the list of persons from whom they have received the gift would be \n",
        "gift_received_from = [2, 1, 4, 5, 3]\n",
        " \n",
        "i.e.\n",
        "Person P1 has received gift from person P2\n",
        "Person P2 has received gift from person P1\n",
        "Person P3 has received gift from person P4\n",
        "Person P4 has received gift from person P5\n",
        "Person P5 has received gift from person P3\n",
        " \n",
        "Your task:\n",
        " \n",
        "Take input for the gift_presented_to[] list and print its respective gift_received_from[] list.\n",
        "'''\n",
        "\n",
        "\n",
        "x = input('gift_presented_to: ')\n",
        "val = [int(i) for i in x.split()]\n",
        "print(val)\n",
        "\n",
        "gift_received_from = [2, 1, 4, 5, 3]\n",
        "\n",
        "for i in range(len(val)):\n",
        "  print(\"Person P\" + str(val[i])  + \" has received gift from Person P\" + str(gift_received_from[i]))"
      ],
      "execution_count": 6,
      "outputs": [
        {
          "output_type": "stream",
          "text": [
            "gift_presented_to: 55 62 11 52\n",
            "[55, 62, 11, 52]\n",
            "Person P55 has received gift from Person P2\n",
            "Person P62 has received gift from Person P1\n",
            "Person P11 has received gift from Person P4\n",
            "Person P52 has received gift from Person P5\n"
          ],
          "name": "stdout"
        }
      ]
    },
    {
      "cell_type": "code",
      "metadata": {
        "id": "XvwYudP1npQ5"
      },
      "source": [
        ""
      ],
      "execution_count": null,
      "outputs": []
    }
  ]
}