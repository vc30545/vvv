{
  "nbformat": 4,
  "nbformat_minor": 0,
  "metadata": {
    "colab": {
      "name": "Project_Temperature.ipynb",
      "provenance": [],
      "authorship_tag": "ABX9TyNNQDxYFnPRvBONQi0y49dG",
      "include_colab_link": true
    },
    "kernelspec": {
      "name": "python3",
      "display_name": "Python 3"
    },
    "language_info": {
      "name": "python"
    }
  },
  "cells": [
    {
      "cell_type": "markdown",
      "metadata": {
        "id": "view-in-github",
        "colab_type": "text"
      },
      "source": [
        "<a href=\"https://colab.research.google.com/github/vc30545/vvv/blob/main/Project_Temperature.ipynb\" target=\"_parent\"><img src=\"https://colab.research.google.com/assets/colab-badge.svg\" alt=\"Open In Colab\"/></a>"
      ]
    },
    {
      "cell_type": "code",
      "metadata": {
        "colab": {
          "base_uri": "https://localhost:8080/"
        },
        "id": "vmYkh0go5tkf",
        "outputId": "a01d55dd-66fd-4c51-d703-77feb8de7e06"
      },
      "source": [
        "celsius = float(input('Enter temperature in Celsius: '))    \n",
        "fahrenheit = (celsius * 1.8) + 32  \n",
        "print('%0.1f  Celsius is equal to %0.1f degree Fahrenheit'%(celsius,fahrenheit)) "
      ],
      "execution_count": 1,
      "outputs": [
        {
          "output_type": "stream",
          "text": [
            "Enter temperature in Celsius: 20\n",
            "20.0  Celsius is equal to 68.0 degree Fahrenheit\n"
          ],
          "name": "stdout"
        }
      ]
    },
    {
      "cell_type": "code",
      "metadata": {
        "colab": {
          "base_uri": "https://localhost:8080/"
        },
        "id": "-n8vj-WG5uNU",
        "outputId": "16ac270e-95ad-49fe-9374-dfe03087606a"
      },
      "source": [
        "celsius = int(input('Enter temperature in Celsius: '))\n",
        "fahrenheit = (celsius * 9/5) + 32 \n",
        "\n",
        "print(\"The converted temperature in fahrenheit is\", fahrenheit)"
      ],
      "execution_count": 6,
      "outputs": [
        {
          "output_type": "stream",
          "text": [
            "Enter temperature in Celsius: 5\n",
            "The converted temperature in fahrenheit is 41.0\n"
          ],
          "name": "stdout"
        }
      ]
    },
    {
      "cell_type": "code",
      "metadata": {
        "colab": {
          "base_uri": "https://localhost:8080/"
        },
        "id": "FnoM9Va_624_",
        "outputId": "28ef8c2d-dd30-4861-b682-76e6188f2b3f"
      },
      "source": [
        "9/5"
      ],
      "execution_count": 7,
      "outputs": [
        {
          "output_type": "execute_result",
          "data": {
            "text/plain": [
              "1.8"
            ]
          },
          "metadata": {
            "tags": []
          },
          "execution_count": 7
        }
      ]
    }
  ]
}