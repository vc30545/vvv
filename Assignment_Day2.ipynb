{
  "nbformat": 4,
  "nbformat_minor": 0,
  "metadata": {
    "colab": {
      "name": "Assignment Day2.ipynb",
      "provenance": [],
      "include_colab_link": true
    },
    "kernelspec": {
      "name": "python3",
      "display_name": "Python 3"
    },
    "language_info": {
      "name": "python"
    }
  },
  "cells": [
    {
      "cell_type": "markdown",
      "metadata": {
        "id": "view-in-github",
        "colab_type": "text"
      },
      "source": [
        "<a href=\"https://colab.research.google.com/github/vc30545/vvv/blob/main/Assignment_Day2.ipynb\" target=\"_parent\"><img src=\"https://colab.research.google.com/assets/colab-badge.svg\" alt=\"Open In Colab\"/></a>"
      ]
    },
    {
      "cell_type": "code",
      "metadata": {
        "colab": {
          "base_uri": "https://localhost:8080/"
        },
        "id": "OChTj0F85A_k",
        "outputId": "dc811913-5c78-4d03-86cd-ccc90e1b62f8"
      },
      "source": [
        "# Assignment 1 - OTP Generator\n",
        "\n",
        "import random as r\n",
        "import string\n",
        "\n",
        "l = 5\n",
        "OTP = \"\"\n",
        "characters = string.ascii_letters + string.digits\n",
        "print(characters) \n",
        "\n",
        "for i in range(l):\n",
        " OTP = OTP + r.choice(characters)\n",
        "\n",
        "print(\"OTP:\", OTP)"
      ],
      "execution_count": null,
      "outputs": [
        {
          "output_type": "stream",
          "text": [
            "abcdefghijklmnopqrstuvwxyzABCDEFGHIJKLMNOPQRSTUVWXYZ0123456789\n",
            "OTP: r5N5Q\n"
          ],
          "name": "stdout"
        }
      ]
    },
    {
      "cell_type": "code",
      "metadata": {
        "colab": {
          "base_uri": "https://localhost:8080/"
        },
        "id": "P2VCK1RZ7LIc",
        "outputId": "8107d0ec-535e-4027-c150-148b86dda77c"
      },
      "source": [
        "# Assignment 2 - Remove all occurence of an element from a list\n",
        "\n",
        "li = [1,4,4,3,15,4,7]\n",
        "val = 4\n",
        "try:\n",
        "        while True:\n",
        "            li.remove(val)\n",
        "except ValueError:\n",
        "        pass\n",
        "print(li)"
      ],
      "execution_count": null,
      "outputs": [
        {
          "output_type": "stream",
          "text": [
            "[1, 3, 15, 7]\n"
          ],
          "name": "stdout"
        }
      ]
    },
    {
      "cell_type": "code",
      "metadata": {
        "colab": {
          "base_uri": "https://localhost:8080/"
        },
        "id": "Iog7uH5x7-8P",
        "outputId": "9b82c920-45c2-4ba1-ac34-7c87caf75f41"
      },
      "source": [
        "# Assignment 3 - Check whether string is a pangram\n",
        "\n",
        "import string\n",
        "  \n",
        "alphabet = set(string.ascii_lowercase)\n",
        "  \n",
        "def ispangram(string):\n",
        "    return set(string.lower()) >= alphabet\n",
        "      \n",
        "\n",
        "string = \"The quick brown fox jumps over the lazy dog\"\n",
        "if(ispangram(string) == True):\n",
        "    print(\"Yes\")\n",
        "else:\n",
        "    print(\"No\")\n",
        "\n"
      ],
      "execution_count": null,
      "outputs": [
        {
          "output_type": "stream",
          "text": [
            "Yes\n"
          ],
          "name": "stdout"
        }
      ]
    },
    {
      "cell_type": "code",
      "metadata": {
        "id": "fsEyhttj-yMn"
      },
      "source": [
        ""
      ],
      "execution_count": null,
      "outputs": []
    }
  ]
}